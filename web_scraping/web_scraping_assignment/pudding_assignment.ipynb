{
 "cells": [
  {
   "cell_type": "code",
   "execution_count": 19,
   "metadata": {},
   "outputs": [],
   "source": [
    "from bs4 import BeautifulSoup\n",
    "import requests\n",
    "import pandas as pd\n",
    "df = pd.read_csv(\"cleaned_pudding_data.csv\")\n",
    "df = df[:1000]\n",
    "def scrape_article(url):\n",
    "    response = requests.get(url)\n",
    "    html_string = response.text\n",
    "    return html_string\n",
    "df['text'] = df['link'].apply(scrape_article)\n",
    "df.to_csv('/Users/conra/OneDrive/Desktop/is310-coding-assignment/web_scraping/pudding_movie_dialogue.csv', index=False)"
   ]
  }
 ],
 "metadata": {
  "kernelspec": {
   "display_name": "Python 3",
   "language": "python",
   "name": "python3"
  },
  "language_info": {
   "codemirror_mode": {
    "name": "ipython",
    "version": 3
   },
   "file_extension": ".py",
   "mimetype": "text/x-python",
   "name": "python",
   "nbconvert_exporter": "python",
   "pygments_lexer": "ipython3",
   "version": "3.11.8"
  }
 },
 "nbformat": 4,
 "nbformat_minor": 2
}
