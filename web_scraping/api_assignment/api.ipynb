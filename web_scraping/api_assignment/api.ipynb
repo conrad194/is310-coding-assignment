{
 "cells": [
  {
   "cell_type": "code",
   "execution_count": 1,
   "metadata": {},
   "outputs": [
    {
     "name": "stdout",
     "output_type": "stream",
     "text": [
      "https://api.dp.la/v2/items?q=kittens&api_key=94dd17277a3d188939c92d059e99b746\n",
      "{'@context': 'http://dp.la/api/items/context', '@id': 'http://dp.la/api/items/43a2f678b647c534de2600c3a9697337', '@type': 'ore:Aggregation', 'aggregatedCHO': '#sourceResource', 'dataProvider': {'@id': 'http://dp.la/api/contributor/minneapolis-institute-of-art', 'exactMatch': ['http://www.wikidata.org/entity/Q1700481'], 'name': 'Minneapolis Institute of Art'}, 'id': '43a2f678b647c534de2600c3a9697337', 'ingestDate': '2024-01-31T19:52:02.091Z', 'ingestType': 'item', 'isShownAt': 'https://collections.artsmia.org/art/58424', 'object': 'http://0.api.artsmia.org/58424.jpg', 'originalRecord': {'stringValue': '{\\n  \"id\" : \"17bbe3e1f0f8585fe39cd03562a682c302ded5aa\",\\n  \"type\" : \"records\",\\n  \"links\" : {\\n    \"self\" : \"https://lib-metl-prd-01.oit.umn.edu/api/v2/records/17bbe3e1f0f8585fe39cd03562a682c302ded5aa\"\\n  },\\n  \"attributes\" : {\\n    \"metadata\" : {\\n      \"object\" : \"http://0.api.artsmia.org/58424.jpg\",\\n      \"rights\" : \"https://creativecommons.org/publicdomain/mark/1.0/\",\\n      \"@context\" : \"http://dp.la/api/items/context\",\\n      \"HUBINDEX\" : {\\n        \"title_ssi\" : \"Kittens\",\\n        \"object_ssi\" : \"http://0.api.artsmia.org/58424.jpg\",\\n        \"title_ssort\" : \"Kittens\",\\n        \"creator_ssim\" : \"Artist: Kellogg and Cumstock\",\\n        \"isShownAt_ssi\" : \"https://collections.artsmia.org/art/58424\",\\n        \"dataProvider_ssi\" : \"Minneapolis Institute of Art\",\\n        \"dataProvider_tei\" : \"Minneapolis Institute of Art\",\\n        \"creator_display_ssi\" : \"Artist: Kellogg and Cumstock\",\\n        \"sourceResource_extent_ssi\" : \"8 11/16 x 12 15/16 in. (22.07 x 32.86 cm) (image)\\\\r\\\\n14 x 18 in. (35.56 x 45.72 cm) (mat, Size I)\",\\n        \"sourceResource_format_ssi\" : \"Lithograph\",\\n        \"sourceResource_creator_ssi\" : \"Artist: Kellogg and Cumstock\",\\n        \"sourceResource_identifier_ssi\" : \"P.11,063\",\\n        \"sourceResource_spatial_name_ssi\" : \"North America\",\\n        \"sourceResource_location_facet_ssim\" : [ null, \"\", \"\", null, \"North America\" ],\\n        \"sourceResource_date_displaydate_ssi\" : \"19th century\",\\n        \"sourceResource_spatial_coordinates_ssi\" : \"46.07323, -100.54688\"\\n      },\\n      \"provider\" : \"Minnesota Digital Library\",\\n      \"isShownAt\" : \"https://collections.artsmia.org/art/58424\",\\n      \"batch_param\" : \"\",\\n      \"record_hash\" : \"17bbe3e1f0f8585fe39cd03562a682c302ded5aa\",\\n      \"dataProvider\" : \"Minneapolis Institute of Art\",\\n      \"originalRecord\" : {\\n        \"id\" : \"http://api.artsmia.org/objects/58424\",\\n        \"role\" : \"Artist\",\\n        \"room\" : \"Not on View\",\\n        \"text\" : \"\",\\n        \"dated\" : \"19th century\",\\n        \"image\" : \"valid\",\\n        \"style\" : \"19th century\",\\n        \"title\" : \"Kittens\",\\n        \"artist\" : \"Artist: Kellogg and Cumstock\",\\n        \"medium\" : \"Lithograph\",\\n        \"signed\" : \"No\",\\n        \"country\" : \"United States\",\\n        \"culture\" : null,\\n        \"markings\" : \"\",\\n        \"see_also\" : [ \"\" ],\\n        \"continent\" : \"North America\",\\n        \"dimension\" : \"8 11/16 x 12 15/16 in. (22.07 x 32.86 cm) (image)\\\\r\\\\n14 x 18 in. (35.56 x 45.72 cm) (mat, Size I)\",\\n        \"life_date\" : null,\\n        \"portfolio\" : \"From \",\\n        \"creditline\" : \"Anonymous gift, 1924\",\\n        \"department\" : \"Arts of the Americas\",\\n        \"provenance\" : \"\",\\n        \"restricted\" : 0,\\n        \"description\" : \"Several water spots near edges\",\\n        \"image_width\" : 6183,\\n        \"inscription\" : \"\",\\n        \"nationality\" : null,\\n        \"object_name\" : \"Tour Du Gros - Horloge, Batie Sous La Domination Des Anglais\",\\n        \"rights_type\" : \"Public Domain\",\\n        \"image_height\" : 4428,\\n        \"classification\" : \" Prints\",\\n        \"image_copyright\" : \"\",\\n        \"accession_number\" : \"P.11,063\",\\n        \"curator_approved\" : 0,\\n        \"art_champions_text\" : null,\\n        \"catalogue_raissonne\" : null\\n      },\\n      \"sourceResource\" : {\\n        \"date\" : {\\n          \"displayDate\" : \"19th century\"\\n        },\\n        \"title\" : \"Kittens\",\\n        \"extent\" : \"8 11/16 x 12 15/16 in. (22.07 x 32.86 cm) (image)\\\\r\\\\n14 x 18 in. (35.56 x 45.72 cm) (mat, Size I)\",\\n        \"format\" : \"Lithograph\",\\n        \"creator\" : \"Artist: Kellogg and Cumstock\",\\n        \"spatial\" : [ {\\n          \"name\" : \"North America\",\\n          \"state\" : \"\",\\n          \"county\" : \"\",\\n          \"country\" : null,\\n          \"coordinates\" : \"46.07323, -100.54688\"\\n        } ],\\n        \"identifier\" : \"P.11,063\"\\n      },\\n      \"HIDE_FIELD_IMAGE_INVALID\" : \"valid\",\\n      \"HIDE_FIELD_IMAGE_RESTRICTED\" : \"0\"\\n    },\\n    \"record-hash\" : \"17bbe3e1f0f8585fe39cd03562a682c302ded5aa\",\\n    \"import-job-name\" : \"MIA\",\\n    \"import-job-id\" : 37,\\n    \"import-batch-id\" : 1532709,\\n    \"import-job-tags\" : [ \"dpla\", \"dplaingest\", \"dpla_nonoai\" ]\\n  }\\n}'}, 'provider': {'@id': 'http://dp.la/api/contributor/mdl', 'exactMatch': ['http://www.wikidata.org/entity/Q83878485'], 'name': 'Minnesota Digital Library'}, 'rights': 'http://creativecommons.org/publicdomain/mark/1.0/', 'rightsCategory': 'Unlimited Re-Use', 'sourceResource': {'@id': 'http://dp.la/api/items/43a2f678b647c534de2600c3a9697337#SourceResource', 'creator': ['Artist: Kellogg and Cumstock'], 'date': [{'displayDate': '19th century'}], 'extent': ['8 11/16 x 12 15/16 in. (22.07 x 32.86 cm) (image) 14 x 18 in. (35.56 x 45.72 cm) (mat, Size I)'], 'format': ['Lithograph'], 'spatial': [{'coordinates': '46.07323, -100.54688', 'name': 'North America'}], 'title': ['Kittens']}}\n"
     ]
    }
   ],
   "source": [
    "from dpla.api import DPLA\n",
    "dpla = DPLA('94dd17277a3d188939c92d059e99b746')\n",
    "\n",
    "# Now make your search\n",
    "response = dpla.search(q=\"kittens\")\n",
    "print(response.items[0])"
   ]
  },
  {
   "cell_type": "code",
   "execution_count": 4,
   "metadata": {},
   "outputs": [
    {
     "name": "stdout",
     "output_type": "stream",
     "text": [
      "api_key\n"
     ]
    }
   ],
   "source": [
    "import apikey\n",
    "apikey.save('dpla_key', 'api_key')\n",
    "dpla = apikey.load('dpla_key')\n"
   ]
  },
  {
   "cell_type": "code",
   "execution_count": null,
   "metadata": {},
   "outputs": [],
   "source": []
  }
 ],
 "metadata": {
  "kernelspec": {
   "display_name": "Python 3",
   "language": "python",
   "name": "python3"
  },
  "language_info": {
   "codemirror_mode": {
    "name": "ipython",
    "version": 3
   },
   "file_extension": ".py",
   "mimetype": "text/x-python",
   "name": "python",
   "nbconvert_exporter": "python",
   "pygments_lexer": "ipython3",
   "version": "3.11.8"
  }
 },
 "nbformat": 4,
 "nbformat_minor": 2
}
