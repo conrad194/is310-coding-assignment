{
 "cells": [
  {
   "cell_type": "code",
   "execution_count": 188,
   "metadata": {},
   "outputs": [],
   "source": [
    "from selenium import webdriver\n",
    "from selenium.webdriver.common.keys import Keys\n",
    "from selenium.webdriver.common.by import By\n",
    "from selenium.webdriver.chrome.options import Options\n",
    "import time\n",
    "import csv\n",
    "from selenium.webdriver.support.ui import WebDriverWait\n",
    "from selenium.webdriver.support import expected_conditions as EC\n",
    "import logging\n",
    "import pandas as pd"
   ]
  },
  {
   "cell_type": "code",
   "execution_count": 189,
   "metadata": {},
   "outputs": [],
   "source": [
    "driver = webdriver.Chrome()\n",
    "driver1 = webdriver.Chrome()\n",
    "url1 = \"https://humanist.kdl.kcl.ac.uk/Archives/Converted_Text/\"\n",
    "url2 = \"https://humanist.kdl.kcl.ac.uk/Archives/Current/\"\n",
    "driver.get(url1)\n",
    "driver1.get(url2)"
   ]
  },
  {
   "cell_type": "code",
   "execution_count": 190,
   "metadata": {},
   "outputs": [
    {
     "name": "stdout",
     "output_type": "stream",
     "text": [
      "https://humanist.kdl.kcl.ac.uk/Archives/Converted_Text/humanist.1987-1988.txt\n",
      "https://humanist.kdl.kcl.ac.uk/Archives/Converted_Text/humanist.1988-1989.txt\n",
      "https://humanist.kdl.kcl.ac.uk/Archives/Converted_Text/humanist.1989-1990.txt\n",
      "https://humanist.kdl.kcl.ac.uk/Archives/Converted_Text/humanist.1990-1991.txt\n",
      "https://humanist.kdl.kcl.ac.uk/Archives/Converted_Text/humanist.1991-1992.txt\n",
      "https://humanist.kdl.kcl.ac.uk/Archives/Converted_Text/humanist.1992-1993.txt\n",
      "https://humanist.kdl.kcl.ac.uk/Archives/Converted_Text/humanist.1993-1994.txt\n",
      "https://humanist.kdl.kcl.ac.uk/Archives/Converted_Text/humanist.1994-1995.txt\n",
      "https://humanist.kdl.kcl.ac.uk/Archives/Converted_Text/humanist.1995-1996.txt\n",
      "https://humanist.kdl.kcl.ac.uk/Archives/Converted_Text/humanist.1996-1997.txt\n",
      "https://humanist.kdl.kcl.ac.uk/Archives/Converted_Text/humanist.1997-1998.txt\n",
      "https://humanist.kdl.kcl.ac.uk/Archives/Converted_Text/humanist.1998-1999.txt\n",
      "https://humanist.kdl.kcl.ac.uk/Archives/Converted_Text/humanist.1999-2000.txt\n",
      "https://humanist.kdl.kcl.ac.uk/Archives/Converted_Text/humanist.2000-2001.txt\n",
      "https://humanist.kdl.kcl.ac.uk/Archives/Converted_Text/humanist.2001-2002.txt\n",
      "https://humanist.kdl.kcl.ac.uk/Archives/Converted_Text/humanist.2002-2003.txt\n",
      "https://humanist.kdl.kcl.ac.uk/Archives/Converted_Text/humanist.2003-2004.txt\n",
      "https://humanist.kdl.kcl.ac.uk/Archives/Converted_Text/humanist.2004-2005.txt\n",
      "https://humanist.kdl.kcl.ac.uk/Archives/Converted_Text/humanist.2005-2006.txt\n",
      "https://humanist.kdl.kcl.ac.uk/Archives/Converted_Text/humanist.2006-2007.txt\n",
      "https://humanist.kdl.kcl.ac.uk/Archives/Converted_Text/humanist.2007-2008.txt\n"
     ]
    }
   ],
   "source": [
    "elements = driver.find_elements(By.TAG_NAME, \"a\")\n",
    "gathered_urls = []\n",
    "for element in elements [1:-1]:\n",
    "    gathered_urls = print(element.get_attribute('href'))\n",
    "gathered_urls"
   ]
  },
  {
   "cell_type": "code",
   "execution_count": 191,
   "metadata": {},
   "outputs": [
    {
     "name": "stdout",
     "output_type": "stream",
     "text": [
      "https://humanist.kdl.kcl.ac.uk/Archives/Current/Humanist.21.542-21.680.txt\n",
      "https://humanist.kdl.kcl.ac.uk/Archives/Current/Humanist.vol22.txt\n",
      "https://humanist.kdl.kcl.ac.uk/Archives/Current/Humanist.vol23.txt\n",
      "https://humanist.kdl.kcl.ac.uk/Archives/Current/Humanist.vol24.txt\n",
      "https://humanist.kdl.kcl.ac.uk/Archives/Current/Humanist.vol25.txt\n",
      "https://humanist.kdl.kcl.ac.uk/Archives/Current/Humanist.vol26.txt\n",
      "https://humanist.kdl.kcl.ac.uk/Archives/Current/Humanist.vol27.txt\n",
      "https://humanist.kdl.kcl.ac.uk/Archives/Current/Humanist.vol28.txt\n",
      "https://humanist.kdl.kcl.ac.uk/Archives/Current/Humanist.vol29.txt\n",
      "https://humanist.kdl.kcl.ac.uk/Archives/Current/Humanist.vol30.txt\n",
      "https://humanist.kdl.kcl.ac.uk/Archives/Current/Humanist.vol31.txt\n"
     ]
    }
   ],
   "source": [
    "elements2 = driver1.find_elements(By.TAG_NAME, \"a\")\n",
    "gathered_second_urls = []\n",
    "for elementi in elements2 [1:-1]:\n",
    "    gathered_second_urls = print(elementi.get_attribute('href'))\n",
    "gathered_second_urls"
   ]
  },
  {
   "cell_type": "code",
   "execution_count": 192,
   "metadata": {},
   "outputs": [
    {
     "name": "stdout",
     "output_type": "stream",
     "text": [
      "https://humanist.kdl.kcl.ac.uk/Archives/Converted_Text/humanist.1987-1988.txt\n",
      "https://humanist.kdl.kcl.ac.uk/Archives/Converted_Text/humanist.1988-1989.txt\n",
      "https://humanist.kdl.kcl.ac.uk/Archives/Converted_Text/humanist.1989-1990.txt\n",
      "https://humanist.kdl.kcl.ac.uk/Archives/Converted_Text/humanist.1990-1991.txt\n",
      "https://humanist.kdl.kcl.ac.uk/Archives/Converted_Text/humanist.1991-1992.txt\n",
      "https://humanist.kdl.kcl.ac.uk/Archives/Converted_Text/humanist.1992-1993.txt\n",
      "https://humanist.kdl.kcl.ac.uk/Archives/Converted_Text/humanist.1993-1994.txt\n",
      "https://humanist.kdl.kcl.ac.uk/Archives/Converted_Text/humanist.1994-1995.txt\n",
      "https://humanist.kdl.kcl.ac.uk/Archives/Converted_Text/humanist.1995-1996.txt\n",
      "https://humanist.kdl.kcl.ac.uk/Archives/Converted_Text/humanist.1996-1997.txt\n",
      "https://humanist.kdl.kcl.ac.uk/Archives/Converted_Text/humanist.1997-1998.txt\n",
      "https://humanist.kdl.kcl.ac.uk/Archives/Converted_Text/humanist.1998-1999.txt\n",
      "https://humanist.kdl.kcl.ac.uk/Archives/Converted_Text/humanist.1999-2000.txt\n",
      "https://humanist.kdl.kcl.ac.uk/Archives/Converted_Text/humanist.2000-2001.txt\n",
      "https://humanist.kdl.kcl.ac.uk/Archives/Converted_Text/humanist.2001-2002.txt\n",
      "https://humanist.kdl.kcl.ac.uk/Archives/Converted_Text/humanist.2002-2003.txt\n",
      "https://humanist.kdl.kcl.ac.uk/Archives/Converted_Text/humanist.2003-2004.txt\n",
      "https://humanist.kdl.kcl.ac.uk/Archives/Converted_Text/humanist.2004-2005.txt\n",
      "https://humanist.kdl.kcl.ac.uk/Archives/Converted_Text/humanist.2005-2006.txt\n",
      "https://humanist.kdl.kcl.ac.uk/Archives/Converted_Text/humanist.2006-2007.txt\n",
      "https://humanist.kdl.kcl.ac.uk/Archives/Converted_Text/humanist.2007-2008.txt\n",
      "https://humanist.kdl.kcl.ac.uk/Archives/Current/Humanist.21.542-21.680.txt\n",
      "https://humanist.kdl.kcl.ac.uk/Archives/Current/Humanist.vol22.txt\n",
      "https://humanist.kdl.kcl.ac.uk/Archives/Current/Humanist.vol23.txt\n",
      "https://humanist.kdl.kcl.ac.uk/Archives/Current/Humanist.vol24.txt\n",
      "https://humanist.kdl.kcl.ac.uk/Archives/Current/Humanist.vol25.txt\n",
      "https://humanist.kdl.kcl.ac.uk/Archives/Current/Humanist.vol26.txt\n",
      "https://humanist.kdl.kcl.ac.uk/Archives/Current/Humanist.vol27.txt\n",
      "https://humanist.kdl.kcl.ac.uk/Archives/Current/Humanist.vol28.txt\n",
      "https://humanist.kdl.kcl.ac.uk/Archives/Current/Humanist.vol29.txt\n",
      "https://humanist.kdl.kcl.ac.uk/Archives/Current/Humanist.vol30.txt\n",
      "https://humanist.kdl.kcl.ac.uk/Archives/Current/Humanist.vol31.txt\n"
     ]
    }
   ],
   "source": [
    "gathered_urls = [\"https://humanist.kdl.kcl.ac.uk/Archives/Converted_Text/\", \"https://humanist.kdl.kcl.ac.uk/Archives/Current/\"]\n",
    "url = gathered_urls[0]\n",
    "with open(\"converted.csv\", 'w', newline='', encoding='utf-8') as csvfile:\n",
    "    writer = csv.writer(csvfile)\n",
    "    writer.writerow([\"url\"])\n",
    "    driver.get(url)\n",
    "    elements = driver.find_elements(By.TAG_NAME, \"a\")\n",
    "    for element in elements[1:-1]:\n",
    "        href = element.get_attribute('href')\n",
    "        print(href)\n",
    "        writer.writerow([href])\n",
    "\n",
    "# Process the second URL\n",
    "url = gathered_urls[1]\n",
    "with open(\"current.csv\", 'w', newline='', encoding='utf-8') as csvfile:\n",
    "    writer = csv.writer(csvfile)\n",
    "    writer.writerow([\"url\"])\n",
    "    driver.get(url)\n",
    "    elements = driver.find_elements(By.TAG_NAME, \"a\")\n",
    "    for element in elements[1:-1]:\n",
    "        href = element.get_attribute('href')\n",
    "        print(href)\n",
    "        writer.writerow([href])"
   ]
  },
  {
   "cell_type": "code",
   "execution_count": 193,
   "metadata": {},
   "outputs": [],
   "source": [
    "texts=pd.read_csv(\"converted.csv\")"
   ]
  },
  {
   "cell_type": "code",
   "execution_count": 194,
   "metadata": {},
   "outputs": [],
   "source": [
    "texts2=pd.read_csv(\"current.csv\")"
   ]
  },
  {
   "cell_type": "code",
   "execution_count": 195,
   "metadata": {},
   "outputs": [],
   "source": [
    "with open(\"converted_text.csv\", 'w', newline='', encoding='utf-8') as csvfile:\n",
    "    writer = csv.writer(csvfile)\n",
    "    writer.writerow([\"url\", \"text\"])\n",
    "\n",
    "    for index, row in texts.iterrows():\n",
    "        url = row[\"url\"]\n",
    "        driver.get(url)\n",
    "        script = driver.page_source\n",
    "\n",
    "        first_10000_chars = script[:10000]\n",
    "\n",
    "        writer.writerow([url, first_10000_chars])"
   ]
  },
  {
   "cell_type": "code",
   "execution_count": 196,
   "metadata": {},
   "outputs": [],
   "source": [
    "with open(\"current_text.csv\", 'w', newline='', encoding='utf-8') as csvfile:\n",
    "    writer = csv.writer(csvfile)\n",
    "    writer.writerow(\"url2\")\n",
    "\n",
    "    for index, row in texts.iterrows():\n",
    "        url = row[\"url\"]\n",
    "        driver.get(url)\n",
    "        script = driver.page_source\n",
    "\n",
    "        first_10000_chars = script[:10000]\n",
    "\n",
    "        writer.writerow([url, first_10000_chars])"
   ]
  },
  {
   "cell_type": "code",
   "execution_count": 199,
   "metadata": {},
   "outputs": [],
   "source": [
    "df1 = pd.read_csv(\"converted_text.csv\")\n",
    "df2 = pd.read_csv(\"current_text.csv\")\n",
    "\n",
    "combined_df = pd.concat([df1,df2],ignore_index=True)\n",
    "combined_df.to_csv(\"web_scraped_humanist_lists.csv\", index=False)"
   ]
  },
  {
   "cell_type": "code",
   "execution_count": 198,
   "metadata": {},
   "outputs": [],
   "source": [
    "driver.quit()\n",
    "driver1.quit()"
   ]
  }
 ],
 "metadata": {
  "kernelspec": {
   "display_name": "Python 3",
   "language": "python",
   "name": "python3"
  },
  "language_info": {
   "codemirror_mode": {
    "name": "ipython",
    "version": 3
   },
   "file_extension": ".py",
   "mimetype": "text/x-python",
   "name": "python",
   "nbconvert_exporter": "python",
   "pygments_lexer": "ipython3",
   "version": "3.11.8"
  }
 },
 "nbformat": 4,
 "nbformat_minor": 2
}
